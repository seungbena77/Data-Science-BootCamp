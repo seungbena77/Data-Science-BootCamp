{
 "cells": [
  {
   "cell_type": "code",
   "execution_count": 1,
   "id": "e8fcdb08-5408-44b4-88a6-b1d6d6e1b576",
   "metadata": {},
   "outputs": [],
   "source": [
    "### Python Notebook"
   ]
  },
  {
   "cell_type": "code",
   "execution_count": 4,
   "id": "52672047-2a01-4037-bb36-1d4dd01f91ce",
   "metadata": {},
   "outputs": [],
   "source": [
    "## comments in Python"
   ]
  },
  {
   "cell_type": "code",
   "execution_count": null,
   "id": "9cfcc528-dbda-4b86-bef6-856b39074597",
   "metadata": {},
   "outputs": [],
   "source": [
    "## comment in Python\n",
    "comment are used to tell a computer to ignore a part of a program.\n",
    "Text written in a program but not run by a computer. Python interpreter ignores anything after the # as a comment\n"
   ]
  },
  {
   "cell_type": "code",
   "execution_count": 6,
   "id": "13b5de29-9650-495d-bc5f-46840738331c",
   "metadata": {},
   "outputs": [],
   "source": [
    "# Exploring variable: Variable hold data or values\n",
    "score = 20 "
   ]
  },
  {
   "cell_type": "code",
   "execution_count": 7,
   "id": "3446ef82-09a6-4135-8b62-3f94787f3107",
   "metadata": {
    "scrolled": true
   },
   "outputs": [
    {
     "data": {
      "text/plain": [
       "20"
      ]
     },
     "execution_count": 7,
     "metadata": {},
     "output_type": "execute_result"
    }
   ],
   "source": [
    "score "
   ]
  },
  {
   "cell_type": "code",
   "execution_count": 8,
   "id": "ff2c8af9-3b7f-4ceb-a2a7-fea6e9bf8c95",
   "metadata": {},
   "outputs": [
    {
     "data": {
      "text/plain": [
       "400"
      ]
     },
     "execution_count": 8,
     "metadata": {},
     "output_type": "execute_result"
    }
   ],
   "source": [
    "#score is already 20, i.e score x 20 = 400 or score x 20 = 40\n",
    "score*20"
   ]
  },
  {
   "cell_type": "code",
   "execution_count": 9,
   "id": "129ccfc4-f912-48b9-aa4d-2fb2cefb8e11",
   "metadata": {},
   "outputs": [],
   "source": [
    "# This is a string data type \n",
    "name = 'simi'"
   ]
  },
  {
   "cell_type": "code",
   "execution_count": 10,
   "id": "77d53ec4-9c32-473e-891b-8da38a224bcf",
   "metadata": {},
   "outputs": [
    {
     "data": {
      "text/plain": [
       "'simi'"
      ]
     },
     "execution_count": 10,
     "metadata": {},
     "output_type": "execute_result"
    }
   ],
   "source": [
    "name "
   ]
  },
  {
   "cell_type": "code",
   "execution_count": 11,
   "id": "7f8e712a-5040-440e-9146-adf6bfeca639",
   "metadata": {},
   "outputs": [
    {
     "name": "stdout",
     "output_type": "stream",
     "text": [
      "simi\n"
     ]
    }
   ],
   "source": [
    "print(name)"
   ]
  },
  {
   "cell_type": "code",
   "execution_count": 12,
   "id": "206a4600-5ff6-4a17-9055-4709c40c6896",
   "metadata": {},
   "outputs": [
    {
     "data": {
      "text/plain": [
       "int"
      ]
     },
     "execution_count": 12,
     "metadata": {},
     "output_type": "execute_result"
    }
   ],
   "source": [
    "type (score)"
   ]
  },
  {
   "cell_type": "code",
   "execution_count": 15,
   "id": "ef665a3c-2bcf-4e9e-81db-565144a03645",
   "metadata": {},
   "outputs": [],
   "source": [
    "# This boolean data type\n",
    "answer = True"
   ]
  },
  {
   "cell_type": "code",
   "execution_count": 16,
   "id": "5493a8f1-219c-456c-b3cc-504b3cfafb5d",
   "metadata": {},
   "outputs": [
    {
     "data": {
      "text/plain": [
       "bool"
      ]
     },
     "execution_count": 16,
     "metadata": {},
     "output_type": "execute_result"
    }
   ],
   "source": [
    "type (answer)"
   ]
  },
  {
   "cell_type": "code",
   "execution_count": 20,
   "id": "be1353b9-31d2-43b9-8b58-661b7614a97c",
   "metadata": {},
   "outputs": [],
   "source": [
    "# dATA tYPE\n",
    "age= 25\n",
    "height = 5.11\n",
    "name = 'Alice'\n",
    "is_student = True"
   ]
  },
  {
   "cell_type": "code",
   "execution_count": 21,
   "id": "49a31e8d-5b9d-43c5-9953-d0fc05052c1b",
   "metadata": {},
   "outputs": [
    {
     "data": {
      "text/plain": [
       "float"
      ]
     },
     "execution_count": 21,
     "metadata": {},
     "output_type": "execute_result"
    }
   ],
   "source": [
    "type (height)"
   ]
  },
  {
   "cell_type": "code",
   "execution_count": 22,
   "id": "15c091cf-7fb9-4f0e-a67b-d57157b94fa6",
   "metadata": {},
   "outputs": [
    {
     "data": {
      "text/plain": [
       "str"
      ]
     },
     "execution_count": 22,
     "metadata": {},
     "output_type": "execute_result"
    }
   ],
   "source": [
    "type(name)"
   ]
  },
  {
   "cell_type": "code",
   "execution_count": 23,
   "id": "b40f4f71-dc4b-4888-98e0-89a4ded9bc7f",
   "metadata": {},
   "outputs": [
    {
     "data": {
      "text/plain": [
       "bool"
      ]
     },
     "execution_count": 23,
     "metadata": {},
     "output_type": "execute_result"
    }
   ],
   "source": [
    "type(is_student)"
   ]
  },
  {
   "cell_type": "code",
   "execution_count": 25,
   "id": "ef94b5cb-2ed4-471f-b784-1fec351c62ad",
   "metadata": {},
   "outputs": [
    {
     "data": {
      "text/plain": [
       "True"
      ]
     },
     "execution_count": 25,
     "metadata": {},
     "output_type": "execute_result"
    }
   ],
   "source": [
    "simi == (is_student)"
   ]
  },
  {
   "cell_type": "code",
   "execution_count": 26,
   "id": "45e6839e-13ea-47d8-83d7-6a8b6e127c61",
   "metadata": {},
   "outputs": [],
   "source": [
    "is_student = 'simi'"
   ]
  },
  {
   "cell_type": "code",
   "execution_count": 27,
   "id": "8a6090a1-5dab-4a5f-8bdd-255d1b66bdd6",
   "metadata": {},
   "outputs": [
    {
     "data": {
      "text/plain": [
       "'simi'"
      ]
     },
     "execution_count": 27,
     "metadata": {},
     "output_type": "execute_result"
    }
   ],
   "source": [
    "is_student"
   ]
  },
  {
   "cell_type": "code",
   "execution_count": 28,
   "id": "aa18b1bc-3af9-45d8-bf4f-d3e0ceef0166",
   "metadata": {},
   "outputs": [],
   "source": [
    "# Type Casting\n",
    "cgpa = 3.8"
   ]
  },
  {
   "cell_type": "code",
   "execution_count": 29,
   "id": "6158a216-8214-4cb9-ae50-1426adb66772",
   "metadata": {},
   "outputs": [
    {
     "data": {
      "text/plain": [
       "3"
      ]
     },
     "execution_count": 29,
     "metadata": {},
     "output_type": "execute_result"
    }
   ],
   "source": [
    "int(cgpa)"
   ]
  },
  {
   "cell_type": "code",
   "execution_count": 30,
   "id": "953d3bfa-8160-4ff7-bff7-24eec851c26d",
   "metadata": {},
   "outputs": [],
   "source": [
    "cgpa = str(cgpa)"
   ]
  },
  {
   "cell_type": "code",
   "execution_count": 31,
   "id": "b8c10bef-a539-48f8-a01a-71e2bb64c1a0",
   "metadata": {},
   "outputs": [
    {
     "data": {
      "text/plain": [
       "str"
      ]
     },
     "execution_count": 31,
     "metadata": {},
     "output_type": "execute_result"
    }
   ],
   "source": [
    "type(cgpa)"
   ]
  },
  {
   "cell_type": "code",
   "execution_count": 33,
   "id": "8b65b338-b7cc-4b1d-9eb7-58fca8247dc1",
   "metadata": {},
   "outputs": [],
   "source": [
    "### Operators are special synbols that carry out arithmetic or legal computation. the value that the operator operate on is called operand"
   ]
  },
  {
   "cell_type": "code",
   "execution_count": 34,
   "id": "c047bd4d-8b1a-4cae-8775-667b498dc578",
   "metadata": {},
   "outputs": [
    {
     "data": {
      "text/plain": [
       "6"
      ]
     },
     "execution_count": 34,
     "metadata": {},
     "output_type": "execute_result"
    }
   ],
   "source": [
    "##Addition \n",
    "2 + 4 "
   ]
  },
  {
   "cell_type": "code",
   "execution_count": 35,
   "id": "e7ea4c8a-d872-46bf-bebe-6db20f71ca73",
   "metadata": {},
   "outputs": [
    {
     "data": {
      "text/plain": [
       "-2"
      ]
     },
     "execution_count": 35,
     "metadata": {},
     "output_type": "execute_result"
    }
   ],
   "source": [
    "#subtraction\n",
    "2-4"
   ]
  },
  {
   "cell_type": "code",
   "execution_count": 36,
   "id": "47bc7ed2-5437-4539-9cd8-7678a37036b4",
   "metadata": {},
   "outputs": [
    {
     "data": {
      "text/plain": [
       "8"
      ]
     },
     "execution_count": 36,
     "metadata": {},
     "output_type": "execute_result"
    }
   ],
   "source": [
    "#multiply\n",
    "2*4"
   ]
  },
  {
   "cell_type": "code",
   "execution_count": 37,
   "id": "c9b0a197-4b04-4bcd-9ed0-d37b7e0597f5",
   "metadata": {},
   "outputs": [
    {
     "data": {
      "text/plain": [
       "2.0"
      ]
     },
     "execution_count": 37,
     "metadata": {},
     "output_type": "execute_result"
    }
   ],
   "source": [
    "#Division\n",
    "8/4"
   ]
  },
  {
   "cell_type": "code",
   "execution_count": 38,
   "id": "acbf5d8b-9fb2-46e4-8029-49ab1b0ee7e5",
   "metadata": {},
   "outputs": [
    {
     "data": {
      "text/plain": [
       "4"
      ]
     },
     "execution_count": 38,
     "metadata": {},
     "output_type": "execute_result"
    }
   ],
   "source": [
    "# Modulus operator\n",
    "9 % 5 "
   ]
  },
  {
   "cell_type": "code",
   "execution_count": 39,
   "id": "1929b92c-b76f-4953-a9fc-46ee7fe1b37f",
   "metadata": {},
   "outputs": [
    {
     "data": {
      "text/plain": [
       "0"
      ]
     },
     "execution_count": 39,
     "metadata": {},
     "output_type": "execute_result"
    }
   ],
   "source": [
    "8 % 4 "
   ]
  },
  {
   "cell_type": "code",
   "execution_count": 45,
   "id": "53a27347-ea58-4ba4-99b4-c2aea10d0fe5",
   "metadata": {},
   "outputs": [],
   "source": [
    "# Modulus operator divide every number and gives you the the remainder, commonly zero(0) at even number, it does not welcome decimals \n"
   ]
  },
  {
   "cell_type": "code",
   "execution_count": 41,
   "id": "5957f865-c54f-4962-8916-211e954573cb",
   "metadata": {},
   "outputs": [
    {
     "data": {
      "text/plain": [
       "8"
      ]
     },
     "execution_count": 41,
     "metadata": {},
     "output_type": "execute_result"
    }
   ],
   "source": [
    "## Exponent this is a raise to poer \n",
    "2**3"
   ]
  },
  {
   "cell_type": "code",
   "execution_count": 43,
   "id": "024bc482-14c4-470e-8bfe-89c9cffa1c6d",
   "metadata": {},
   "outputs": [
    {
     "data": {
      "text/plain": [
       "2"
      ]
     },
     "execution_count": 43,
     "metadata": {},
     "output_type": "execute_result"
    }
   ],
   "source": [
    "##Floor Division\n",
    "9//4"
   ]
  },
  {
   "cell_type": "code",
   "execution_count": 44,
   "id": "0c509afb-6f8d-41a6-aece-7c8460a74ea6",
   "metadata": {},
   "outputs": [
    {
     "data": {
      "text/plain": [
       "4"
      ]
     },
     "execution_count": 44,
     "metadata": {},
     "output_type": "execute_result"
    }
   ],
   "source": [
    "14//3"
   ]
  },
  {
   "cell_type": "code",
   "execution_count": 46,
   "id": "33209d25-9520-42a4-adc9-419bbd47f311",
   "metadata": {},
   "outputs": [],
   "source": [
    "# The Assignment Operators\n",
    "a = 10\n",
    "b = 20\n",
    "c = 30"
   ]
  },
  {
   "cell_type": "code",
   "execution_count": 48,
   "id": "c1f23ffd-ecfd-4bb8-94f5-3c052df95a12",
   "metadata": {},
   "outputs": [],
   "source": [
    "a = a + b"
   ]
  },
  {
   "cell_type": "code",
   "execution_count": 49,
   "id": "5606521a-9374-4a83-a4f8-85d429ffa5da",
   "metadata": {},
   "outputs": [
    {
     "data": {
      "text/plain": [
       "50"
      ]
     },
     "execution_count": 49,
     "metadata": {},
     "output_type": "execute_result"
    }
   ],
   "source": [
    "a"
   ]
  },
  {
   "cell_type": "code",
   "execution_count": 50,
   "id": "81167434-2170-4b38-a89e-a786522e17bc",
   "metadata": {},
   "outputs": [],
   "source": [
    "# The Assignment Operatoe\n",
    "a = 10\n",
    "b = 20\n",
    "c = 30"
   ]
  },
  {
   "cell_type": "code",
   "execution_count": 52,
   "id": "aa3fa6ad-4b94-4205-a601-40c9c30b129c",
   "metadata": {},
   "outputs": [],
   "source": [
    "a = a + b"
   ]
  },
  {
   "cell_type": "code",
   "execution_count": 53,
   "id": "ccf61d25-86a6-483b-a9b9-e90c1854b1b5",
   "metadata": {},
   "outputs": [
    {
     "data": {
      "text/plain": [
       "50"
      ]
     },
     "execution_count": 53,
     "metadata": {},
     "output_type": "execute_result"
    }
   ],
   "source": [
    "a"
   ]
  },
  {
   "cell_type": "code",
   "execution_count": 5,
   "id": "ffce2538-764c-43dc-92bc-16dc0aff3d24",
   "metadata": {},
   "outputs": [],
   "source": [
    "# The Assignment Operator\n",
    "a = 10\n",
    "b = 20\n",
    "c = 30"
   ]
  },
  {
   "cell_type": "code",
   "execution_count": 55,
   "id": "ee397bb0-7d73-4623-9b5e-2a58fee8996a",
   "metadata": {},
   "outputs": [],
   "source": [
    "a = a + b"
   ]
  },
  {
   "cell_type": "code",
   "execution_count": 56,
   "id": "b291c36c-158b-4d3b-b7a1-0c4c80548671",
   "metadata": {},
   "outputs": [
    {
     "data": {
      "text/plain": [
       "30"
      ]
     },
     "execution_count": 56,
     "metadata": {},
     "output_type": "execute_result"
    }
   ],
   "source": [
    "a"
   ]
  },
  {
   "cell_type": "code",
   "execution_count": 7,
   "id": "5bd6b598-5a60-4768-a52c-e8737afe600e",
   "metadata": {},
   "outputs": [],
   "source": [
    "d = 10"
   ]
  },
  {
   "cell_type": "code",
   "execution_count": 8,
   "id": "3baa14f1-e24c-4117-a6d6-53d2a6b389ff",
   "metadata": {},
   "outputs": [
    {
     "data": {
      "text/plain": [
       "True"
      ]
     },
     "execution_count": 8,
     "metadata": {},
     "output_type": "execute_result"
    }
   ],
   "source": [
    "a == d"
   ]
  },
  {
   "cell_type": "code",
   "execution_count": 13,
   "id": "0b1726b9-2e47-40e3-996a-afd603e0646b",
   "metadata": {},
   "outputs": [],
   "source": [
    "name = \"simi\"\n",
    "name_1 = \"ope\"\n",
    "name_2 = \"Simi\""
   ]
  },
  {
   "cell_type": "code",
   "execution_count": 15,
   "id": "78f00e5f-c645-48df-b386-707c6e7221e1",
   "metadata": {},
   "outputs": [
    {
     "data": {
      "text/plain": [
       "False"
      ]
     },
     "execution_count": 15,
     "metadata": {},
     "output_type": "execute_result"
    }
   ],
   "source": [
    "name == name_2"
   ]
  },
  {
   "cell_type": "code",
   "execution_count": 16,
   "id": "3e4c6f88-1600-4348-ac6b-ec0039534a6b",
   "metadata": {},
   "outputs": [
    {
     "data": {
      "text/plain": [
       "True"
      ]
     },
     "execution_count": 16,
     "metadata": {},
     "output_type": "execute_result"
    }
   ],
   "source": [
    "name != name_2"
   ]
  },
  {
   "cell_type": "code",
   "execution_count": 18,
   "id": "c7e15a4b-e736-413d-9bde-c9991bcac93a",
   "metadata": {},
   "outputs": [
    {
     "name": "stdout",
     "output_type": "stream",
     "text": [
      "10\n",
      "20\n"
     ]
    }
   ],
   "source": [
    "# The greater than sign \n",
    "print (a)\n",
    "print(b)"
   ]
  },
  {
   "cell_type": "code",
   "execution_count": 19,
   "id": "c443a990-3cea-46d3-9c47-0a4f15099aec",
   "metadata": {},
   "outputs": [
    {
     "data": {
      "text/plain": [
       "False"
      ]
     },
     "execution_count": 19,
     "metadata": {},
     "output_type": "execute_result"
    }
   ],
   "source": [
    "a > b"
   ]
  },
  {
   "cell_type": "code",
   "execution_count": 20,
   "id": "1cad7ff0-76b1-4365-8420-1642d11c3cb5",
   "metadata": {},
   "outputs": [
    {
     "data": {
      "text/plain": [
       "True"
      ]
     },
     "execution_count": 20,
     "metadata": {},
     "output_type": "execute_result"
    }
   ],
   "source": [
    "a < b"
   ]
  },
  {
   "cell_type": "code",
   "execution_count": null,
   "id": "10500334-915c-44c3-9a14-9675b07e50d6",
   "metadata": {},
   "outputs": [],
   "source": [
    "## This is how we give direction to the program to execute some \n",
    "certain logic when a condition is met, and behave differently when a condition is not met\n",
    "we accomplish this using the conditional statement (if,elif(else if)else)"
   ]
  },
  {
   "cell_type": "code",
   "execution_count": 28,
   "id": "e59ce94a-6c88-4873-afed-0939436110ed",
   "metadata": {},
   "outputs": [],
   "source": [
    "age = 18"
   ]
  },
  {
   "cell_type": "code",
   "execution_count": 29,
   "id": "1df0ba42-712c-4ee7-b6ce-93281c93aa26",
   "metadata": {},
   "outputs": [
    {
     "name": "stdout",
     "output_type": "stream",
     "text": [
      "You're are too matured\n"
     ]
    }
   ],
   "source": [
    "if age >= 18:\n",
    "    print(\"You're are too matured\")\n",
    "\n",
    "       \n"
   ]
  },
  {
   "cell_type": "code",
   "execution_count": 30,
   "id": "c639a3e4-a42f-49b2-94e6-7e0794804f74",
   "metadata": {},
   "outputs": [
    {
     "name": "stdout",
     "output_type": "stream",
     "text": [
      "You're are too matured\n"
     ]
    }
   ],
   "source": [
    "if age >= 18:\n",
    "    print(\"You're are too matured\")\n",
    "else:\n",
    "    print(\"you're not old enough\")"
   ]
  },
  {
   "cell_type": "code",
   "execution_count": 31,
   "id": "6635c84a-bf8d-4eeb-bad1-ad6a9285565a",
   "metadata": {},
   "outputs": [],
   "source": [
    "age = 18"
   ]
  },
  {
   "cell_type": "code",
   "execution_count": 34,
   "id": "97ac26a2-a395-451b-843c-50551f501521",
   "metadata": {},
   "outputs": [
    {
     "name": "stdin",
     "output_type": "stream",
     "text": [
      "what is your age 20\n"
     ]
    },
    {
     "name": "stdout",
     "output_type": "stream",
     "text": [
      "You\"re are too matured\n"
     ]
    }
   ],
   "source": [
    "age = int(input(\"what is your age\"))\n",
    "if age >= 18:\n",
    "    print('You\"re are too matured')\n",
    "else:\n",
    "    print(\"you're not old enough\")"
   ]
  },
  {
   "cell_type": "markdown",
   "id": "9c32940a-24c3-4cc4-b0d1-15a779cd2651",
   "metadata": {
    "scrolled": true
   },
   "source": [
    "age = int(input (\"what is you age:\"))\n",
    "if age >= 18:\n",
    "    print(\"you're an adult\")\n",
    "else:\n",
    "    print (\"you're a minor\")\n"
   ]
  },
  {
   "cell_type": "markdown",
   "id": "d0173350-efe9-422f-82ed-1612d94c1aab",
   "metadata": {
    "scrolled": true
   },
   "source": [
    "### Using the for loop and range functions\n",
    "The for loop is used for looping through a sequence, while the range is used for a start and stop."
   ]
  },
  {
   "cell_type": "code",
   "execution_count": 38,
   "id": "988b3812-97e0-4a0c-a589-dc92f9467086",
   "metadata": {
    "scrolled": true
   },
   "outputs": [
    {
     "name": "stdout",
     "output_type": "stream",
     "text": [
      "0\n",
      "1\n",
      "2\n",
      "3\n",
      "4\n",
      "5\n",
      "6\n",
      "7\n"
     ]
    }
   ],
   "source": [
    "for i in range (8):\n",
    "    print(i)"
   ]
  },
  {
   "cell_type": "code",
   "execution_count": 46,
   "id": "0bddcde3-38c4-4ca2-9388-e7eb1ae0177c",
   "metadata": {},
   "outputs": [
    {
     "name": "stdin",
     "output_type": "stream",
     "text": [
      "what is you age: 16\n"
     ]
    },
    {
     "name": "stdout",
     "output_type": "stream",
     "text": [
      "you're still an adolescent\n"
     ]
    }
   ],
   "source": [
    "age = int(input (\"what is you age:\"))\n",
    "if age >= 18:\n",
    "    print(\"you're an adult\")\n",
    "elif age >= 16 or age > 18:\n",
    "    print (\"you're still an adolescent\")\n",
    "\n",
    "else:\n",
    "    print(\"you're a minor\")"
   ]
  },
  {
   "cell_type": "code",
   "execution_count": null,
   "id": "60a65df6-6c91-40b0-ae2a-f2dac63cbb82",
   "metadata": {},
   "outputs": [],
   "source": [
    "## Data Type in Python\n",
    "- Integer : This is Numeric (Whole Number)\n",
    "- Float : this is Numeric (decimal)\n",
    "-Strings: This is text Character\n",
    "-Boolean: This is True / False (Must start with capital letter)\n",
    "-None This is used to represent Emptiness"
   ]
  },
  {
   "cell_type": "code",
   "execution_count": null,
   "id": "4e2bbc77-d5a1-41c7-a33b-dd34aa3faaaa",
   "metadata": {},
   "outputs": [],
   "source": [
    "## Data Structur\n",
    " List\n",
    " Tuple\n",
    " Dictionary\n",
    " Set"
   ]
  },
  {
   "cell_type": "code",
   "execution_count": null,
   "id": "fb621bf3-b1df-4b5a-9ee9-0d882693b8f7",
   "metadata": {},
   "outputs": [],
   "source": [
    "## List\n",
    "List is an ordered and imutable or changeable data structure in python. python uses square brackets for denoting a list"
   ]
  },
  {
   "cell_type": "code",
   "execution_count": 12,
   "id": "e3f3e80d-6b00-461f-bd32-4c9533df7323",
   "metadata": {},
   "outputs": [],
   "source": [
    "fruits = [\"apple\",\"banana\",\"cherry\"]"
   ]
  },
  {
   "cell_type": "code",
   "execution_count": 13,
   "id": "0bd3c3b2-1822-4d6a-bf21-78756ad660a4",
   "metadata": {},
   "outputs": [
    {
     "data": {
      "text/plain": [
       "['apple', 'banana', 'cherry']"
      ]
     },
     "execution_count": 13,
     "metadata": {},
     "output_type": "execute_result"
    }
   ],
   "source": [
    "fruits"
   ]
  },
  {
   "cell_type": "code",
   "execution_count": 15,
   "id": "2eec4592-3cd6-4b6d-82c1-a92f1050137d",
   "metadata": {},
   "outputs": [
    {
     "data": {
      "text/plain": [
       "'banana'"
      ]
     },
     "execution_count": 15,
     "metadata": {},
     "output_type": "execute_result"
    }
   ],
   "source": [
    "fruits[1]"
   ]
  },
  {
   "cell_type": "code",
   "execution_count": 16,
   "id": "0b63e674-a901-4341-a6c7-c0bfc413e37b",
   "metadata": {},
   "outputs": [
    {
     "data": {
      "text/plain": [
       "'apple'"
      ]
     },
     "execution_count": 16,
     "metadata": {},
     "output_type": "execute_result"
    }
   ],
   "source": [
    "## Note when using the python on its start from zero counting as one \n",
    "fruits[0]"
   ]
  },
  {
   "cell_type": "code",
   "execution_count": 68,
   "id": "8851f167-1b81-45f7-9f5d-9a44ee261eca",
   "metadata": {},
   "outputs": [],
   "source": [
    "fruits = ['apple','banana','cherry','pinapple','mango']"
   ]
  },
  {
   "cell_type": "code",
   "execution_count": 38,
   "id": "765e66fc-4a76-4780-bf58-796a588b188f",
   "metadata": {},
   "outputs": [
    {
     "data": {
      "text/plain": [
       "['apple', 'cherry']"
      ]
     },
     "execution_count": 38,
     "metadata": {},
     "output_type": "execute_result"
    }
   ],
   "source": [
    "fruits[0:4:2]"
   ]
  },
  {
   "cell_type": "code",
   "execution_count": 43,
   "id": "f8620088-9efe-4fb5-8438-d3c6b758c442",
   "metadata": {},
   "outputs": [
    {
     "data": {
      "text/plain": [
       "['apple', 'banana', 'cherry']"
      ]
     },
     "execution_count": 43,
     "metadata": {},
     "output_type": "execute_result"
    }
   ],
   "source": [
    "## getting more than a single item e.g 2 colun  e.g '0:2:4\n",
    "# note in such situation the middle integer is exclusive \n",
    "fruits[0:3]"
   ]
  },
  {
   "cell_type": "code",
   "execution_count": 36,
   "id": "0f0143fe-b210-4b1a-9bb2-aed9eaa74ad1",
   "metadata": {},
   "outputs": [
    {
     "data": {
      "text/plain": [
       "['apple', 'banana', 'cherry']"
      ]
     },
     "execution_count": 36,
     "metadata": {},
     "output_type": "execute_result"
    }
   ],
   "source": [
    "fruits"
   ]
  },
  {
   "cell_type": "code",
   "execution_count": 45,
   "id": "5e38fc72-ebd2-4a76-9124-e0f56814cde5",
   "metadata": {},
   "outputs": [
    {
     "data": {
      "text/plain": [
       "['apple', 'banana', 'cherry']"
      ]
     },
     "execution_count": 45,
     "metadata": {},
     "output_type": "execute_result"
    }
   ],
   "source": [
    "fruits[: 3]"
   ]
  },
  {
   "cell_type": "code",
   "execution_count": 49,
   "id": "875a7fb4-4422-4168-9f15-e454c6363769",
   "metadata": {},
   "outputs": [
    {
     "data": {
      "text/plain": [
       "'mango'"
      ]
     },
     "execution_count": 49,
     "metadata": {},
     "output_type": "execute_result"
    }
   ],
   "source": [
    "# This minus is used to minus the last item on the lis\n",
    "fruits[-1]"
   ]
  },
  {
   "cell_type": "code",
   "execution_count": 50,
   "id": "58c93c13-9a2e-48c5-816c-8c1fb41032f2",
   "metadata": {},
   "outputs": [
    {
     "data": {
      "text/plain": [
       "'pinapple'"
      ]
     },
     "execution_count": 50,
     "metadata": {},
     "output_type": "execute_result"
    }
   ],
   "source": [
    "fruits[-2]"
   ]
  },
  {
   "cell_type": "code",
   "execution_count": null,
   "id": "20400fd7-9a30-46a7-90f2-94555a41dafd",
   "metadata": {},
   "outputs": [],
   "source": [
    "### List Methods\n",
    "These are method that we use to manupulate the change the list."
   ]
  },
  {
   "cell_type": "code",
   "execution_count": 69,
   "id": "b7be619e-6150-4dbf-82aa-77a5b52391ae",
   "metadata": {},
   "outputs": [],
   "source": [
    "## The append instruction is to add additional fruit or something to the table\n",
    "fruits.append(\"watermelon\")"
   ]
  },
  {
   "cell_type": "code",
   "execution_count": 54,
   "id": "333b8e62-d500-41ed-b136-6a7448b75478",
   "metadata": {},
   "outputs": [
    {
     "data": {
      "text/plain": [
       "['apple', 'banana', 'cherry', 'pinapple', 'mango', 'watermelon', 'watermelon']"
      ]
     },
     "execution_count": 54,
     "metadata": {},
     "output_type": "execute_result"
    }
   ],
   "source": [
    "fruits"
   ]
  },
  {
   "cell_type": "code",
   "execution_count": 60,
   "id": "69f5f54a-bb3b-4b55-b3aa-e3989e6de6a5",
   "metadata": {},
   "outputs": [],
   "source": [
    "##This method will clear all the content on the list on the table\n",
    "fruits.clear()"
   ]
  },
  {
   "cell_type": "code",
   "execution_count": 70,
   "id": "fc662d04-2aaa-4fea-8da5-0317eb8c13a7",
   "metadata": {},
   "outputs": [
    {
     "data": {
      "text/plain": [
       "['apple', 'banana', 'cherry', 'pinapple', 'mango', 'watermelon']"
      ]
     },
     "execution_count": 70,
     "metadata": {},
     "output_type": "execute_result"
    }
   ],
   "source": [
    "fruits.copy()"
   ]
  },
  {
   "cell_type": "code",
   "execution_count": 73,
   "id": "1cacb7c6-6a43-4b2b-8466-997a74c272b7",
   "metadata": {},
   "outputs": [],
   "source": [
    "fruits_1 = fruits.copy()"
   ]
  },
  {
   "cell_type": "code",
   "execution_count": 74,
   "id": "2db619e4-d5ad-4743-936c-9130ed1a369e",
   "metadata": {},
   "outputs": [],
   "source": [
    "fruits_1.append(\"Cucumber\")"
   ]
  },
  {
   "cell_type": "code",
   "execution_count": 75,
   "id": "c3c1d20f-a158-4256-9222-e62cb7db78b6",
   "metadata": {},
   "outputs": [
    {
     "data": {
      "text/plain": [
       "['apple', 'banana', 'cherry', 'pinapple', 'mango', 'watermelon', 'Cucumber']"
      ]
     },
     "execution_count": 75,
     "metadata": {},
     "output_type": "execute_result"
    }
   ],
   "source": [
    "fruits_1"
   ]
  },
  {
   "cell_type": "code",
   "execution_count": 76,
   "id": "3b60a38d-5de5-4530-a714-8498eeede713",
   "metadata": {},
   "outputs": [
    {
     "data": {
      "text/plain": [
       "['apple', 'banana', 'cherry', 'pinapple', 'mango', 'watermelon']"
      ]
     },
     "execution_count": 76,
     "metadata": {},
     "output_type": "execute_result"
    }
   ],
   "source": [
    "fruits"
   ]
  },
  {
   "cell_type": "code",
   "execution_count": 79,
   "id": "ea0eab6c-6aec-4e16-ac6e-e1abed4b5cda",
   "metadata": {},
   "outputs": [
    {
     "data": {
      "text/plain": [
       "['apple', 'banana', 'cherry', 'pinapple', 'mango', 'watermelon', 'Cucumber']"
      ]
     },
     "execution_count": 79,
     "metadata": {},
     "output_type": "execute_result"
    }
   ],
   "source": [
    "fruits_1.copy()"
   ]
  },
  {
   "cell_type": "code",
   "execution_count": null,
   "id": "943d13fd-23c7-49ba-b827-f6ca1717a5ca",
   "metadata": {},
   "outputs": [],
   "source": [
    "fruits_1"
   ]
  }
 ],
 "metadata": {
  "kernelspec": {
   "display_name": "Python 3 (ipykernel)",
   "language": "python",
   "name": "python3"
  },
  "language_info": {
   "codemirror_mode": {
    "name": "ipython",
    "version": 3
   },
   "file_extension": ".py",
   "mimetype": "text/x-python",
   "name": "python",
   "nbconvert_exporter": "python",
   "pygments_lexer": "ipython3",
   "version": "3.11.7"
  }
 },
 "nbformat": 4,
 "nbformat_minor": 5
}
